{
 "cells": [
  {
   "cell_type": "markdown",
   "id": "military-julian",
   "metadata": {},
   "source": [
    "This notebook is to test the equivalence and the differences between the likelihood functions."
   ]
  },
  {
   "cell_type": "code",
   "execution_count": 57,
   "id": "accurate-coating",
   "metadata": {},
   "outputs": [],
   "source": [
    "import pickle\n",
    "\n",
    "data_file = \"../data/data-v1.001.pkl\"\n",
    "with open (data_file, 'rb') as fin:\n",
    "    idx, iidx, cascades, innovs = pickle.load (fin)"
   ]
  },
  {
   "cell_type": "code",
   "execution_count": 60,
   "id": "whole-region",
   "metadata": {},
   "outputs": [],
   "source": [
    "import numpy as np\n",
    "import os\n",
    "import sys\n",
    "if not os.path.abspath (\"../modules\") in sys.path:\n",
    "    sys.path.append (os.path.abspath (\"../modules\"))\n",
    "import hpmodels\n",
    "import hputils\n",
    "\n",
    "bandwidth=1.0\n",
    "dims=len(idx)"
   ]
  },
  {
   "cell_type": "code",
   "execution_count": 67,
   "id": "naked-advertiser",
   "metadata": {},
   "outputs": [],
   "source": [
    "def log_likelihood_single_cascade (params,\n",
    "                                   cascade,\n",
    "                                   bandwidth=1.0,\n",
    "                                   dims=5,\n",
    "                                   sign=-1.0,\n",
    "                                   epsilon=1e-5,\n",
    "                                   verbose=False):\n",
    "    # unflatten parameters\n",
    "    mu = params[0*dims:1*dims]\n",
    "    b = params[1*dims:2*dims]\n",
    "    c = params[2*dims:3*dims]\n",
    "    s = params[3*dims:4*dims]\n",
    "\n",
    "    # initialization\n",
    "    eta = np.zeros_like (mu)\n",
    "    intensities = np.zeros_like (mu)\n",
    "    total_intensities = np.zeros_like (mu)\n",
    "\n",
    "    last_timestamp = -1\n",
    "    log_intensities = 0\n",
    "    se_gate = np.eye (dims)\n",
    "\n",
    "    for timestamp in sorted(cascade.keys()):\n",
    "        if last_timestamp < 0:\n",
    "            eta = 0\n",
    "        else:\n",
    "            last_sources = cascade[last_timestamp]\n",
    "            aggregator = np.zeros_like (mu)\n",
    "            for last_source in last_sources:\n",
    "                aggregator += ((b[last_source] * c) + (s*se_gate[last_source,:]))\n",
    "\n",
    "            eta = hputils.exp_kernel (timestamp, last_timestamp, bandwidth) * (eta + aggregator)\n",
    "\n",
    "        intensities = mu + eta\n",
    "        current_sources = cascade[timestamp]\n",
    "        log_intensities += np.log (intensities[current_sources] + epsilon).sum()\n",
    "        total_intensities += intensities\n",
    "        last_timestamp = timestamp\n",
    "\n",
    "    ll = (sign) * (log_intensities - total_intensities.sum())\n",
    "    return ll\n",
    "\n",
    "def log_likelihood_many_cascades (params,\n",
    "                                  cascades,\n",
    "                                  single_cascade_likelihood,\n",
    "                                  bandwidth=1.0,\n",
    "                                  dims=5,\n",
    "                                  sign=-1.0,\n",
    "                                  epsilon=1e-5,\n",
    "                                  verbose=False):\n",
    "    n_cascades = len (cascades)\n",
    "    total_log_likelihood = 0.0\n",
    "    for i in range (n_cascades):\n",
    "        log_likelihood = single_cascade_likelihood (params, \\\n",
    "                                                    cascades[i], \\\n",
    "                                                    bandwidth, \\\n",
    "                                                    dims, \\\n",
    "                                                    sign, \\\n",
    "                                                    epsilon, \\\n",
    "                                                    verbose)\n",
    "        total_log_likelihood += log_likelihood\n",
    "\n",
    "    if verbose: print (total_log_likelihood/n_cascades)\n",
    "    return total_log_likelihood/n_cascades\n",
    "\n",
    "def estimate_params (cascades,\n",
    "                     multiple_cascades_log_likelihood,\n",
    "                     single_cascade_log_likelihood,\n",
    "                     log_optimizer=None,\n",
    "                     gradient=None,\n",
    "                     bandwidth=1.0,\n",
    "                     dims=5,\n",
    "                     seed=42):\n",
    "    \n",
    "    #initialize with a seed value so results can be replicated\n",
    "    np.random.seed (seed)\n",
    "    \n",
    "    # set non-negativity bounds on the parameters\n",
    "    bounds = [(0,None) for i in range (4*dims)]\n",
    "    \n",
    "    # random uniform initialization between 0 and 1\n",
    "    params = np.random.uniform (0, 1, size=4*dims)\n",
    "    \n",
    "    # Multiply with -1 or 1 to minimize or maximize log likelihood respectively\n",
    "    sign = -1.0\n",
    "    \n",
    "    # Small value for epsilon so we don't run into divide by zero errors\n",
    "    epsilon = 1e-5\n",
    "    \n",
    "    result = minimize (multiple_cascades_log_likelihood,\n",
    "                       params,\n",
    "                       callback=log_optimizer, \n",
    "                       args=(cascades, single_cascade_log_likelihood, bandwidth, dims, sign, epsilon, False),\n",
    "                       method='L-BFGS-B',\n",
    "                       jac=gradient,\n",
    "                       bounds=bounds,\n",
    "                       options={'ftol': 1e-5, \"maxls\": 50, \"maxcor\":50, \"maxiter\":5000, \"maxfun\": 5000, \"disp\": True})\n",
    "    return result"
   ]
  },
  {
   "cell_type": "code",
   "execution_count": 68,
   "id": "artificial-trader",
   "metadata": {},
   "outputs": [],
   "source": [
    "result = estimate_params (cascades[0:50], \n",
    "                          log_likelihood_many_cascades, \n",
    "                          log_likelihood_single_cascade,\n",
    "                          bandwidth=bandwidth, \n",
    "                          dims=dims, \n",
    "                          seed=seed)"
   ]
  },
  {
   "cell_type": "code",
   "execution_count": 69,
   "id": "lesbian-difficulty",
   "metadata": {},
   "outputs": [
    {
     "name": "stdout",
     "output_type": "stream",
     "text": [
      "      fun: -437.9228187196823\n",
      " hess_inv: <52x52 LbfgsInvHessProduct with dtype=float64>\n",
      "      jac: array([-4.22403448e-02, -3.72608609e-02, -6.38181064e-02, -4.67082376e-02,\n",
      "        2.65288237e-02,  1.51771928e-02, -4.92832441e-02, -7.27709449e-02,\n",
      "        4.75168349e+00, -2.04465778e-02,  2.20361471e+00,  1.17609034e-02,\n",
      "        1.09690859e+01,  4.02209821e+00,  5.06872766e-02, -3.47711193e-02,\n",
      "        9.20981620e+00,  7.13839654e-02,  1.01863407e-01,  1.28125066e-02,\n",
      "        1.60127911e-02,  7.47166951e-01, -6.75299820e-03,  1.45905688e-01,\n",
      "        2.68471466e-02,  1.55239377e-02,  4.15354862e-02,  2.62957656e-02,\n",
      "        1.36765266e-02,  1.44694922e-01, -3.18323148e-03, -3.02691207e-02,\n",
      "        1.98781436e-02,  2.54487986e-02, -1.72690307e-02,  8.42419468e-03,\n",
      "       -4.47357704e-03,  1.29057298e-01,  5.52972779e-02, -3.20937941e-02,\n",
      "       -5.04201123e-03, -1.11128883e-02,  9.77494778e+00,  1.04705578e-02,\n",
      "        5.47402121e-02,  5.97179906e-01,  1.77806214e-02,  1.40549332e+00,\n",
      "        2.43903173e+00,  2.49913228e+00, -4.73733056e-02, -1.49498193e-01])\n",
      "  message: b'CONVERGENCE: REL_REDUCTION_OF_F_<=_FACTR*EPSMCH'\n",
      "     nfev: 2809\n",
      "      nit: 40\n",
      "     njev: 53\n",
      "   status: 0\n",
      "  success: True\n",
      "        x: array([1.16542995, 0.79370003, 0.29114779, 1.06829796, 1.20991533,\n",
      "       0.8290581 , 0.04030562, 0.13841482, 0.        , 0.25563072,\n",
      "       0.        , 0.09101663, 0.        , 0.        , 0.05444715,\n",
      "       0.1870903 , 0.        , 0.20233713, 0.34385298, 0.12828969,\n",
      "       0.22547954, 0.        , 1.65077363, 0.12773212, 0.62426534,\n",
      "       0.36062547, 0.05350492, 0.19477032, 0.36077635, 0.83210886,\n",
      "       1.63142989, 1.93715802, 0.02074351, 0.18039857, 0.16379227,\n",
      "       0.11820589, 0.57666135, 0.0835696 , 0.00990558, 0.81272078,\n",
      "       0.84039031, 0.72609803, 0.        , 0.35466813, 0.77513374,\n",
      "       0.        , 0.09334348, 0.        , 0.        , 0.        ,\n",
      "       2.8756637 , 1.04511606])\n"
     ]
    }
   ],
   "source": [
    "print (result)"
   ]
  },
  {
   "cell_type": "code",
   "execution_count": 31,
   "id": "complete-farmer",
   "metadata": {},
   "outputs": [],
   "source": [
    "import numpy as np\n",
    "from scipy.optimize import minimize\n",
    "\n",
    "# initialize\n",
    "seed = 42\n",
    "np.random.seed (seed)\n",
    "params = np.random.uniform (0, 1, size=4*dims)\n",
    "\n",
    "# set bounds\n",
    "bounds = [(0,None) for i in range (4*dims)] # set the non-negativity bounds on the parameters\n",
    "\n",
    "# Before running the optimizer, evaluate the objective with\n",
    "# \n",
    "\n",
    "def estimate_discrete_coarse_params (cascades,\n",
    "                                     log_likelihood,\n",
    "                                     log_optimizer,\n",
    "                                     gradient=None,\n",
    "                                     bandwidth=1.0,\n",
    "                                     dims=5,\n",
    "                                     seed=42):\n",
    "    np.random.seed (seed)\n",
    "    bounds = [(0,None) for i in range (4*dims)] # set the non-negativity bounds on the parameters\n",
    "    params = np.random.uniform (0, 1, size=4*dims) # random initialization of the parameters\n",
    "    sign = -1.0 # Multiply so that we can minimize negative log likelihood\n",
    "    epsilon = 1e-5\n",
    "    result = minimize (log_likelihood,\n",
    "                       params,\n",
    "                       callback=log_optimizer, \n",
    "                       args=(cascades, bandwidth, dims, sign, epsilon, False),\n",
    "                       method='L-BFGS-B',\n",
    "                       jac=gradient,\n",
    "                       bounds=bounds,\n",
    "                       options={'ftol': 1e-5, \"maxls\": 50, \"maxcor\":50, \"maxiter\":5000, \"maxfun\": 5000, \"disp\": True})\n",
    "\n",
    "    return result"
   ]
  },
  {
   "cell_type": "code",
   "execution_count": 33,
   "id": "worse-trouble",
   "metadata": {},
   "outputs": [],
   "source": [
    "results = list ()\n",
    "for seed in [1, 10, 100]:\n",
    "    result = estimate_discrete_coarse_params (cascades[0:10], hpmodels.DCHP.log_likelihood_many_cascades, bandwidth=bandwidth, dims=dims, seed=seed)\n",
    "    results.append (result)\n",
    "    \n",
    "#mu = result.x[0*dims:1*dims]\n",
    "#b = result.x[1*dims:2*dims]\n",
    "#c = result.x[2*dims:3*dims]\n",
    "#s = result.x[3*dims:4*dims]"
   ]
  },
  {
   "cell_type": "code",
   "execution_count": 54,
   "id": "through-broadcast",
   "metadata": {},
   "outputs": [],
   "source": [
    "import pickle\n",
    "with open (\"temp.pkl\", \"wb\") as fout:\n",
    "    pickle.dump(result, fout)"
   ]
  },
  {
   "cell_type": "code",
   "execution_count": 55,
   "id": "extra-assault",
   "metadata": {},
   "outputs": [],
   "source": [
    "import pickle\n",
    "with open (\"temp.pkl\", \"rb\") as fin:\n",
    "    res = pickle.load (fin)"
   ]
  },
  {
   "cell_type": "code",
   "execution_count": 36,
   "id": "organic-helena",
   "metadata": {},
   "outputs": [
    {
     "name": "stdout",
     "output_type": "stream",
     "text": [
      "-409.3539280864108\n",
      "-409.35519621547377\n",
      "-409.36478701778725\n"
     ]
    }
   ],
   "source": [
    "for result in results:\n",
    "    print (result.fun)"
   ]
  },
  {
   "cell_type": "markdown",
   "id": "promising-circular",
   "metadata": {},
   "source": [
    "The likelihoods are very similar. It means that different initializations at least converge to a local minima. However, do different parameters lead to the same objective?"
   ]
  },
  {
   "cell_type": "code",
   "execution_count": 48,
   "id": "confused-underground",
   "metadata": {},
   "outputs": [
    {
     "data": {
      "text/plain": [
       "<BarContainer object of 13 artists>"
      ]
     },
     "execution_count": 48,
     "metadata": {},
     "output_type": "execute_result"
    },
    {
     "data": {
      "image/png": "[encoded data removed]",
      "text/plain": [
       "<Figure size 432x288 with 1 Axes>"
      ]
     },
     "metadata": {
      "needs_background": "light"
     },
     "output_type": "display_data"
    }
   ],
   "source": [
    "import matplotlib.pyplot as plt\n",
    "%matplotlib inline\n",
    "\n",
    "plt.bar (list (range (dims)), results[0].x[0*dims:1*dims])"
   ]
  },
  {
   "cell_type": "code",
   "execution_count": 43,
   "id": "adapted-flood",
   "metadata": {},
   "outputs": [
    {
     "name": "stdout",
     "output_type": "stream",
     "text": [
      "0.040894092936725815\n",
      "0.7930474415337577\n",
      "0.7887388851585643\n",
      "1.2611529485133222\n"
     ]
    }
   ],
   "source": [
    "print(np.linalg.norm(results[0].x[0*dims:1*dims] - results[1].x[0*dims:1*dims]))\n",
    "print(np.linalg.norm(results[0].x[1*dims:2*dims] - results[1].x[1*dims:2*dims]))\n",
    "print(np.linalg.norm(results[0].x[2*dims:3*dims] - results[1].x[2*dims:3*dims]))\n",
    "print(np.linalg.norm(results[0].x[3*dims:4*dims] - results[1].x[3*dims:4*dims]))"
   ]
  },
  {
   "cell_type": "code",
   "execution_count": 44,
   "id": "advanced-dance",
   "metadata": {},
   "outputs": [
    {
     "data": {
      "text/plain": [
       "array([0.        , 0.01326876, 0.2361898 , 0.        , 0.1242115 ,\n",
       "       0.34186547, 0.22672149, 0.29685991, 0.        , 2.14653415,\n",
       "       0.08946789, 0.86385549, 0.88047674])"
      ]
     },
     "execution_count": 44,
     "metadata": {},
     "output_type": "execute_result"
    }
   ],
   "source": [
    "results[0].x[1*dims: 2*dims]"
   ]
  },
  {
   "cell_type": "code",
   "execution_count": 6,
   "id": "regional-porcelain",
   "metadata": {},
   "outputs": [
    {
     "name": "stdout",
     "output_type": "stream",
     "text": [
      "[0.51107148 0.21681343 0.6348066  0.19109664 0.64933803]\n"
     ]
    }
   ],
   "source": [
    "mu = np.random.rand (5)\n",
    "print (mu)"
   ]
  },
  {
   "cell_type": "code",
   "execution_count": 8,
   "id": "ceramic-domestic",
   "metadata": {},
   "outputs": [],
   "source": [
    "\n",
    "\n",
    "mu = np.random.rand (dims)\n",
    "b = np.random.rand (dims)\n",
    "c = np.random.rand (dims)\n",
    "s = np.random.rand (dims)\n",
    "params = np.concatenate ((mu, b, c, s))"
   ]
  },
  {
   "cell_type": "code",
   "execution_count": 10,
   "id": "severe-deadline",
   "metadata": {},
   "outputs": [
    {
     "name": "stdout",
     "output_type": "stream",
     "text": [
      "63.96312798142929\n"
     ]
    }
   ],
   "source": [
    "current_implementation_log_likelihood = hpmodels.DCHP.log_likelihood_many_cascades (params, cascades, bandwidth=bandwidth, dims=dims, sign=1.0)\n",
    "print (current_implementation_log_likelihood)"
   ]
  },
  {
   "cell_type": "code",
   "execution_count": null,
   "id": "electrical-chair",
   "metadata": {},
   "outputs": [],
   "source": [
    "def log_likelihood_single_cascade (params,\n",
    "                                   cascade,\n",
    "                                   bandwidth=1.0,\n",
    "                                   dims=5,\n",
    "                                   sign=-1.0,\n",
    "                                   epsilon=1e-5,\n",
    "                                   verbose=False):\n",
    "        # unflatten parameters\n",
    "        mu = params[0*dims:1*dims]\n",
    "        b = params[1*dims:2*dims]\n",
    "        c = params[2*dims:3*dims]\n",
    "        s = params[3*dims:4*dims]\n",
    "        \n",
    "        pass\n",
    "\n",
    "def log_likelihood_many_cascades (params,\n",
    "                                  cascades,\n",
    "                                  bandwidth=1.0,\n",
    "                                  dims=5,\n",
    "                                  sign=-1.0,\n",
    "                                  epsilon=1e-5,\n",
    "                                  verbose=False):\n",
    "    \n",
    "    n_cascades = len (cascades)\n",
    "    total_log_likelihood = 0.0\n",
    "    for i in range (n_cascades):\n",
    "        log_likelihood = log_likelihood_single_cascade (params, \\\n",
    "                                                        cascades[i], \\\n",
    "                                                        bandwidth, \\\n",
    "                                                        dims, \\\n",
    "                                                        sign, \\\n",
    "                                                        epsilon, \\\n",
    "                                                        verbose)\n",
    "\n",
    "        total_log_likelihood += log_likelihood\n",
    "\n",
    "    if verbose: print (total_log_likelihood/n_cascades)\n",
    "    return total_log_likelihood/n_cascades"
   ]
  },
  {
   "cell_type": "code",
   "execution_count": 71,
   "id": "wicked-trial",
   "metadata": {},
   "outputs": [
    {
     "data": {
      "text/plain": [
       "[1, 2, 3, 4, 5, 6, 7, 8, 9, 10]"
      ]
     },
     "execution_count": 71,
     "metadata": {},
     "output_type": "execute_result"
    }
   ],
   "source": [
    "l = [1,2,3,4,5,6,7,8,9,10]\n",
    "l[0:None]"
   ]
  }
 ],
 "metadata": {
  "kernelspec": {
   "display_name": "Python 3",
   "language": "python",
   "name": "python3"
  },
  "language_info": {
   "codemirror_mode": {
    "name": "ipython",
    "version": 3
   },
   "file_extension": ".py",
   "mimetype": "text/x-python",
   "name": "python",
   "nbconvert_exporter": "python",
   "pygments_lexer": "ipython3",
   "version": "3.7.4"
  }
 },
 "nbformat": 4,
 "nbformat_minor": 5
}
