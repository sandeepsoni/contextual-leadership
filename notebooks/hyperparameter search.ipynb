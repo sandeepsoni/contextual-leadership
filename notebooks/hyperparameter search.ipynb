{
 "cells": [
  {
   "cell_type": "code",
   "execution_count": 1,
   "id": "sharp-ontario",
   "metadata": {},
   "outputs": [],
   "source": [
    "import pickle\n",
    "import os\n",
    "import glob\n",
    "import random\n",
    "import sys\n",
    "import pandas as pd\n",
    "import numpy as np\n",
    "\n",
    "if not os.path.abspath (\"../modules\") in sys.path:\n",
    "    sys.path.append (os.path.abspath (\"../modules\"))\n",
    "import hpmodels"
   ]
  },
  {
   "cell_type": "code",
   "execution_count": 2,
   "id": "english-furniture",
   "metadata": {},
   "outputs": [],
   "source": [
    "PICKLED_DIR = \"../data/hyperparameters-search/001/\""
   ]
  },
  {
   "cell_type": "code",
   "execution_count": 3,
   "id": "optional-reality",
   "metadata": {},
   "outputs": [],
   "source": [
    "# Read the innovations\n",
    "with open (\"../data/data-v1.001.pkl\", 'rb') as fin:\n",
    "    idx, iidx, cascades, innovs = pickle.load (fin)"
   ]
  },
  {
   "cell_type": "code",
   "execution_count": 4,
   "id": "reasonable-portugal",
   "metadata": {},
   "outputs": [
    {
     "name": "stdout",
     "output_type": "stream",
     "text": [
      "   filename  bandwidth  l2_coeff\n",
      "0     1.pkl       0.25     0.001\n",
      "1     2.pkl       0.25     0.010\n",
      "2     3.pkl       0.25     0.100\n",
      "3     4.pkl       0.25     1.000\n",
      "4     5.pkl       0.25    10.000\n",
      "5     6.pkl       0.25   100.000\n",
      "6     7.pkl       0.25  1000.000\n",
      "7     8.pkl       0.50     0.001\n",
      "8     9.pkl       0.50     0.010\n",
      "9    10.pkl       0.50     0.100\n",
      "10   11.pkl       0.50     1.000\n",
      "11   12.pkl       0.50    10.000\n",
      "12   13.pkl       0.50   100.000\n",
      "13   14.pkl       0.50  1000.000\n",
      "14   15.pkl       1.00     0.001\n",
      "15   16.pkl       1.00     0.010\n",
      "16   17.pkl       1.00     0.100\n",
      "17   18.pkl       1.00     1.000\n",
      "18   19.pkl       1.00    10.000\n",
      "19   20.pkl       1.00   100.000\n",
      "20   21.pkl       1.00  1000.000\n",
      "21   22.pkl       2.00     0.001\n",
      "22   23.pkl       2.00     0.010\n",
      "23   24.pkl       2.00     0.100\n",
      "24   25.pkl       2.00     1.000\n",
      "25   26.pkl       2.00    10.000\n",
      "26   27.pkl       2.00   100.000\n",
      "27   28.pkl       2.00  1000.000\n",
      "28   29.pkl       4.00     0.001\n",
      "29   30.pkl       4.00     0.010\n",
      "30   31.pkl       4.00     0.100\n",
      "31   32.pkl       4.00     1.000\n",
      "32   33.pkl       4.00    10.000\n",
      "33   34.pkl       4.00   100.000\n",
      "34   35.pkl       4.00  1000.000\n"
     ]
    }
   ],
   "source": [
    "df = pd.read_csv (os.path.join (PICKLED_DIR, \"hyperparams.csv\"), sep=\",\")\n",
    "print (df)"
   ]
  },
  {
   "cell_type": "code",
   "execution_count": 5,
   "id": "exceptional-october",
   "metadata": {},
   "outputs": [],
   "source": [
    "seed = 23\n",
    "train_percent = 0.8\n",
    "random.seed (seed)\n",
    "random.shuffle (cascades)\n",
    "random.seed (seed)\n",
    "random.shuffle (innovs)\n",
    "train_cascades = cascades[:int((len(cascades)+1)*train_percent)]\n",
    "test_cascades = cascades[int((len(cascades)+1)*train_percent):]"
   ]
  },
  {
   "cell_type": "code",
   "execution_count": 7,
   "id": "norwegian-matter",
   "metadata": {},
   "outputs": [],
   "source": [
    "heldout_objectives = list ()\n",
    "for filename in glob.glob (f\"{PICKLED_DIR}/*.pkl\"):\n",
    "    with open (filename, \"rb\") as fin:\n",
    "        result = pickle.load (fin)\n",
    "        bandwidth = float(df[df[\"filename\"] == os.path.basename(filename)].bandwidth.item())\n",
    "        heldout_log_likelihood = hpmodels.DCHP.log_likelihood_many_cascades (result.x,\n",
    "                                                                             test_cascades,\n",
    "                                                                             hpmodels.DCHP.log_likelihood_single_cascade,\n",
    "                                                                             bandwidth=bandwidth,\n",
    "                                                                             dims=len(idx),\n",
    "                                                                             sign=1.0)\n",
    "        l2_coeff = float(df[df[\"filename\"] == os.path.basename(filename)][\"l2_coeff\"].item())\n",
    "        \n",
    "        heldout_objectives.append ((bandwidth, l2_coeff, heldout_log_likelihood))\n",
    "        \n",
    "heldout_objectives = pd.DataFrame (heldout_objectives, columns=[\"bandwidth\", \"l2-coeff\", \"objective\"])"
   ]
  },
  {
   "cell_type": "code",
   "execution_count": 8,
   "id": "through-botswana",
   "metadata": {},
   "outputs": [
    {
     "data": {
      "text/html": [
       "<div>\n",
       "<style scoped>\n",
       "    .dataframe tbody tr th:only-of-type {\n",
       "        vertical-align: middle;\n",
       "    }\n",
       "\n",
       "    .dataframe tbody tr th {\n",
       "        vertical-align: top;\n",
       "    }\n",
       "\n",
       "    .dataframe thead th {\n",
       "        text-align: right;\n",
       "    }\n",
       "</style>\n",
       "<table border=\"1\" class=\"dataframe\">\n",
       "  <thead>\n",
       "    <tr style=\"text-align: right;\">\n",
       "      <th></th>\n",
       "      <th>bandwidth</th>\n",
       "      <th>l2-coeff</th>\n",
       "      <th>objective</th>\n",
       "    </tr>\n",
       "  </thead>\n",
       "  <tbody>\n",
       "    <tr>\n",
       "      <th>11</th>\n",
       "      <td>0.5</td>\n",
       "      <td>0.01</td>\n",
       "      <td>371.441743</td>\n",
       "    </tr>\n",
       "  </tbody>\n",
       "</table>\n",
       "</div>"
      ],
      "text/plain": [
       "    bandwidth  l2-coeff   objective\n",
       "11        0.5      0.01  371.441743"
      ]
     },
     "execution_count": 8,
     "metadata": {},
     "output_type": "execute_result"
    }
   ],
   "source": [
    "heldout_objectives[heldout_objectives.objective == heldout_objectives.objective.max()]"
   ]
  },
  {
   "cell_type": "code",
   "execution_count": 9,
   "id": "automotive-breath",
   "metadata": {},
   "outputs": [],
   "source": [
    "import matplotlib.pyplot as plt\n",
    "%matplotlib inline"
   ]
  },
  {
   "cell_type": "code",
   "execution_count": 49,
   "id": "stuck-dover",
   "metadata": {},
   "outputs": [
    {
     "name": "stderr",
     "output_type": "stream",
     "text": [
      "/hg191/sandeep/miniconda3/envs/py37/lib/python3.7/site-packages/matplotlib/cbook/__init__.py:1402: FutureWarning: Support for multi-dimensional indexing (e.g. `obj[:, None]`) is deprecated and will be removed in a future version.  Convert to a numpy array before indexing instead.\n",
      "  x[:, None]\n",
      "/hg191/sandeep/miniconda3/envs/py37/lib/python3.7/site-packages/matplotlib/axes/_base.py:276: FutureWarning: Support for multi-dimensional indexing (e.g. `obj[:, None]`) is deprecated and will be removed in a future version.  Convert to a numpy array before indexing instead.\n",
      "  x = x[:, np.newaxis]\n",
      "/hg191/sandeep/miniconda3/envs/py37/lib/python3.7/site-packages/matplotlib/axes/_base.py:278: FutureWarning: Support for multi-dimensional indexing (e.g. `obj[:, None]`) is deprecated and will be removed in a future version.  Convert to a numpy array before indexing instead.\n",
      "  y = y[:, np.newaxis]\n",
      "/hg191/sandeep/miniconda3/envs/py37/lib/python3.7/site-packages/matplotlib/cbook/__init__.py:1402: FutureWarning: Support for multi-dimensional indexing (e.g. `obj[:, None]`) is deprecated and will be removed in a future version.  Convert to a numpy array before indexing instead.\n",
      "  x[:, None]\n",
      "/hg191/sandeep/miniconda3/envs/py37/lib/python3.7/site-packages/matplotlib/axes/_base.py:276: FutureWarning: Support for multi-dimensional indexing (e.g. `obj[:, None]`) is deprecated and will be removed in a future version.  Convert to a numpy array before indexing instead.\n",
      "  x = x[:, np.newaxis]\n",
      "/hg191/sandeep/miniconda3/envs/py37/lib/python3.7/site-packages/matplotlib/axes/_base.py:278: FutureWarning: Support for multi-dimensional indexing (e.g. `obj[:, None]`) is deprecated and will be removed in a future version.  Convert to a numpy array before indexing instead.\n",
      "  y = y[:, np.newaxis]\n",
      "/hg191/sandeep/miniconda3/envs/py37/lib/python3.7/site-packages/matplotlib/cbook/__init__.py:1402: FutureWarning: Support for multi-dimensional indexing (e.g. `obj[:, None]`) is deprecated and will be removed in a future version.  Convert to a numpy array before indexing instead.\n",
      "  x[:, None]\n",
      "/hg191/sandeep/miniconda3/envs/py37/lib/python3.7/site-packages/matplotlib/axes/_base.py:276: FutureWarning: Support for multi-dimensional indexing (e.g. `obj[:, None]`) is deprecated and will be removed in a future version.  Convert to a numpy array before indexing instead.\n",
      "  x = x[:, np.newaxis]\n",
      "/hg191/sandeep/miniconda3/envs/py37/lib/python3.7/site-packages/matplotlib/axes/_base.py:278: FutureWarning: Support for multi-dimensional indexing (e.g. `obj[:, None]`) is deprecated and will be removed in a future version.  Convert to a numpy array before indexing instead.\n",
      "  y = y[:, np.newaxis]\n",
      "/hg191/sandeep/miniconda3/envs/py37/lib/python3.7/site-packages/matplotlib/cbook/__init__.py:1402: FutureWarning: Support for multi-dimensional indexing (e.g. `obj[:, None]`) is deprecated and will be removed in a future version.  Convert to a numpy array before indexing instead.\n",
      "  x[:, None]\n",
      "/hg191/sandeep/miniconda3/envs/py37/lib/python3.7/site-packages/matplotlib/axes/_base.py:276: FutureWarning: Support for multi-dimensional indexing (e.g. `obj[:, None]`) is deprecated and will be removed in a future version.  Convert to a numpy array before indexing instead.\n",
      "  x = x[:, np.newaxis]\n",
      "/hg191/sandeep/miniconda3/envs/py37/lib/python3.7/site-packages/matplotlib/axes/_base.py:278: FutureWarning: Support for multi-dimensional indexing (e.g. `obj[:, None]`) is deprecated and will be removed in a future version.  Convert to a numpy array before indexing instead.\n",
      "  y = y[:, np.newaxis]\n",
      "/hg191/sandeep/miniconda3/envs/py37/lib/python3.7/site-packages/matplotlib/cbook/__init__.py:1402: FutureWarning: Support for multi-dimensional indexing (e.g. `obj[:, None]`) is deprecated and will be removed in a future version.  Convert to a numpy array before indexing instead.\n",
      "  x[:, None]\n",
      "/hg191/sandeep/miniconda3/envs/py37/lib/python3.7/site-packages/matplotlib/axes/_base.py:276: FutureWarning: Support for multi-dimensional indexing (e.g. `obj[:, None]`) is deprecated and will be removed in a future version.  Convert to a numpy array before indexing instead.\n",
      "  x = x[:, np.newaxis]\n",
      "/hg191/sandeep/miniconda3/envs/py37/lib/python3.7/site-packages/matplotlib/axes/_base.py:278: FutureWarning: Support for multi-dimensional indexing (e.g. `obj[:, None]`) is deprecated and will be removed in a future version.  Convert to a numpy array before indexing instead.\n",
      "  y = y[:, np.newaxis]\n"
     ]
    },
    {
     "data": {
      "text/plain": [
       "<matplotlib.legend.Legend at 0x7ff5c0f51a50>"
      ]
     },
     "execution_count": 49,
     "metadata": {},
     "output_type": "execute_result"
    },
    {
     "data": {
      "image/png": "[encoded data removed]",
      "text/plain": [
       "<Figure size 432x288 with 1 Axes>"
      ]
     },
     "metadata": {
      "needs_background": "light"
     },
     "output_type": "display_data"
    }
   ],
   "source": [
    "for color_string, l2_coeff in [(\"c.\", 0.001), (\"kx\", 0.01), (\"go\", 0.1), (\"b+\", 1.0), (\"r*\", 10.0)]:\n",
    "    plt.plot(np.log2(heldout_objectives[heldout_objectives[\"l2-coeff\"] == l2_coeff].bandwidth), heldout_objectives[heldout_objectives[\"l2-coeff\"] == l2_coeff].objective, color_string, label=f\"l2_coeff={l2_coeff}\")\n",
    "\n",
    "plt.xlabel (\"log(bandwidth)\")\n",
    "plt.ylabel (\"Heldout objective\")\n",
    "plt.legend ()"
   ]
  }
 ],
 "metadata": {
  "kernelspec": {
   "display_name": "Python 3",
   "language": "python",
   "name": "python3"
  },
  "language_info": {
   "codemirror_mode": {
    "name": "ipython",
    "version": 3
   },
   "file_extension": ".py",
   "mimetype": "text/x-python",
   "name": "python",
   "nbconvert_exporter": "python",
   "pygments_lexer": "ipython3",
   "version": "3.7.4"
  }
 },
 "nbformat": 4,
 "nbformat_minor": 5
}
